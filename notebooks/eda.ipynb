{
 "cells": [
  {
   "cell_type": "code",
   "execution_count": 1,
   "metadata": {},
   "outputs": [],
   "source": [
    "import os,sys\n",
    "sys.path.append(os.path.abspath('../scripts'))"
   ]
  },
  {
   "cell_type": "code",
   "execution_count": 2,
   "metadata": {},
   "outputs": [],
   "source": [
    "import eda as eda"
   ]
  },
  {
   "cell_type": "markdown",
   "metadata": {},
   "source": [
    "# Loading the Data"
   ]
  },
  {
   "cell_type": "code",
   "execution_count": 3,
   "metadata": {},
   "outputs": [
    {
     "name": "stderr",
     "output_type": "stream",
     "text": [
      "INFO:eda:loading the data\n"
     ]
    }
   ],
   "source": [
    "df = eda.load_data('../data/Copy of BrentOilPrices.csv')"
   ]
  },
  {
   "cell_type": "markdown",
   "metadata": {},
   "source": [
    "# Overview Of the Data"
   ]
  },
  {
   "cell_type": "code",
   "execution_count": 4,
   "metadata": {},
   "outputs": [
    {
     "name": "stderr",
     "output_type": "stream",
     "text": [
      "INFO:eda:overview of the data\n"
     ]
    },
    {
     "name": "stdout",
     "output_type": "stream",
     "text": [
      "the the shape of the data is (9011, 2)\n",
      "the description of the data              Price\n",
      "count  9011.000000\n",
      "mean     48.420782\n",
      "std      32.860110\n",
      "min       9.100000\n",
      "25%      19.050000\n",
      "50%      38.570000\n",
      "75%      70.090000\n",
      "max     143.950000\n",
      "the data type of the data set Date      object\n",
      "Price    float64\n",
      "dtype: object\n"
     ]
    }
   ],
   "source": [
    "eda.overview_of_the_data(df)"
   ]
  },
  {
   "cell_type": "code",
   "execution_count": null,
   "metadata": {},
   "outputs": [],
   "source": []
  }
 ],
 "metadata": {
  "kernelspec": {
   "display_name": ".week-10",
   "language": "python",
   "name": "python3"
  },
  "language_info": {
   "codemirror_mode": {
    "name": "ipython",
    "version": 3
   },
   "file_extension": ".py",
   "mimetype": "text/x-python",
   "name": "python",
   "nbconvert_exporter": "python",
   "pygments_lexer": "ipython3",
   "version": "3.12.2"
  }
 },
 "nbformat": 4,
 "nbformat_minor": 2
}
